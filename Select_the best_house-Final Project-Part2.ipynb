{
 "cells": [
  {
   "cell_type": "markdown",
   "metadata": {},
   "source": [
    "# House Prices-Part 2-Masomeh_Aliheydarloo"
   ]
  },
  {
   "cell_type": "code",
   "execution_count": 1,
   "metadata": {},
   "outputs": [],
   "source": [
    "import numpy as np\n",
    "import pandas as pd\n",
    "from matplotlib import pyplot as plt\n",
    "import seaborn as sns\n",
    "import warnings\n",
    "warnings.filterwarnings('ignore')\n"
   ]
  },
  {
   "cell_type": "code",
   "execution_count": 2,
   "metadata": {},
   "outputs": [],
   "source": [
    "X=pd.read_csv('F:/DataScience-Tosee/Final Project/House Codes/predicted_train.csv')"
   ]
  },
  {
   "cell_type": "code",
   "execution_count": 3,
   "metadata": {},
   "outputs": [],
   "source": [
    "# importing date class from datetime module \n",
    "from datetime import date \n",
    "  \n",
    "# creating the date object of today's date \n",
    "todays_date = date.today() "
   ]
  },
  {
   "cell_type": "code",
   "execution_count": 4,
   "metadata": {},
   "outputs": [],
   "source": [
    "HouseStyle='2Story'\n",
    "MSZoning='A'\n",
    "YearBuilt=20\n",
    "BedroomAbvGr=4\n",
    "GrLivArea=960\n",
    "SalePrice=198700"
   ]
  },
  {
   "cell_type": "code",
   "execution_count": 5,
   "metadata": {},
   "outputs": [],
   "source": [
    "def select_house(Housestyle,MSZoning,YearBuilt,BedroomAbvGr,GrLivArea,SalePrice,X):\n",
    "   \n",
    "    data = pd.DataFrame({'Style':[],'MSZoning':[],'YearBuilt':[],'Bedroom':[],\n",
    "                         'Area_diff':[],'Price_diff': []})\n",
    "    df_marks = pd.DataFrame(data )\n",
    "    \n",
    "    if(HouseStyle == '' and YearBuilt =='' and BedroomAbvGr=='' and MSZoning=='' and \n",
    "                    GrLivArea== '' and SalePrice== ''):\n",
    "                print(\" No information!\")\n",
    "                return ('','')\n",
    "                \n",
    "            \n",
    "    else:\n",
    "        for x in X.index:\n",
    "            y=0\n",
    "        \n",
    "        \n",
    "#----------------------------      All condition  \n",
    "            if(X.loc[x, 'HouseStyle'] == HouseStyle and \n",
    "                   (todays_date.year  - X.loc[x, \"YearBuilt\"]) <=  YearBuilt and\n",
    "                    X.loc[x, \"BedroomAbvGr\"] == BedroomAbvGr and\n",
    "                     X.loc[x, \"MSZoning\"] != MSZoning  and \n",
    "                       X.loc[x, \"GrLivArea\"] == GrLivArea and\n",
    "                       X.loc[x, \"SalePrice\"] == SalePrice):\n",
    "                    y=4\n",
    "    #-----------------------------Housestyle + yearBuilt + BedroomAbvGr\n",
    "            elif(HouseStyle != '' and YearBuilt != '' and BedroomAbvGr != '' ):\n",
    "                if(X.loc[x, 'HouseStyle'] == HouseStyle and \n",
    "                   (todays_date.year  - X.loc[x, \"YearBuilt\"]) <=  YearBuilt and\n",
    "                    X.loc[x, \"BedroomAbvGr\"] == BedroomAbvGr and\n",
    "                     X.loc[x, \"MSZoning\"] != MSZoning) :\n",
    "                    y=3\n",
    "                   \n",
    "    #----------------------------     yearBuilt + BedroomAbvGr\n",
    "            elif(HouseStyle == '' and YearBuilt != '' and BedroomAbvGr != ''):\n",
    "                 if ((todays_date.year  - X.loc[x, \"YearBuilt\"]) <=  YearBuilt and\n",
    "                     X.loc[x, \"BedroomAbvGr\"] == BedroomAbvGr and\n",
    "                    X.loc[x, \"MSZoning\"] != MSZoning):\n",
    "                    y=2\n",
    "    #----------------------------   HouseStyle+ BedroomAbvGr                \n",
    "            elif(HouseStyle != '' and YearBuilt == '' and BedroomAbvGr != '' ):\n",
    "                if(X.loc[x, \"HouseStyle\"] == HouseStyle and  \n",
    "                   X.loc[x, \"BedroomAbvGr\"] == BedroomAbvGr and\n",
    "                      X.loc[x, \"MSZoning\"] != MSZoning):\n",
    "                    y=2\n",
    "    #----------------------------   HouseStyle+ YearBuilt                \n",
    "            elif(HouseStyle != '' and YearBuilt != '' and BedroomAbvGr == '' ):\n",
    "                if(X.loc[x, \"HouseStyle\"] == HouseStyle and  \n",
    "                    (todays_date.year  -X.loc[x, \"YearBuilt\"]) <=  YearBuilt and\n",
    "                      X.loc[x, \"MSZoning\"] != MSZoning):\n",
    "                    y=2\n",
    "    #---------------------------BedroomAbvGr\n",
    "\n",
    "            elif(HouseStyle == '' and YearBuilt == '' and BedroomAbvGr != ''):\n",
    "                if( X.loc[x, \"BedroomAbvGr\"] == BedroomAbvGr and \n",
    "                     X.loc[x, \"MSZoning\"] != MSZoning):\n",
    "                    y=1\n",
    "    #---------------------------YearBuilt\n",
    "            elif(HouseStyle == '' and YearBuilt != '' and BedroomAbvGr == '' ):\n",
    "                if(  (todays_date.year  - X.loc[x, \"YearBuilt\"]) <=  YearBuilt and\n",
    "                      X.loc[x, \"MSZoning\"] != MSZoning):\n",
    "                    y=1\n",
    "    #---------------------------HouseStyle\n",
    "            elif(HouseStyle != '' and YearBuilt == '' and BedroomAbvGr == '' ):\n",
    "                if(  X.loc[x, \"HouseStyle\"] == HouseStyle and\n",
    "                      X.loc[x, \"MSZoning\"] != MSZoning):\n",
    "                    y=1\n",
    "    #-------------\n",
    "            if (y != 0):#all condotion have value\n",
    "                new_row = {'Style':X.loc[x, \"HouseStyle\"],\n",
    "                           'MSZoning':X.loc[x, \"MSZoning\"],\n",
    "                           'YearBuilt':(todays_date.year  -X.loc[x, \"YearBuilt\"]),\n",
    "                           'Bedroom':X.loc[x, \"BedroomAbvGr\"], \n",
    "                           'Price_diff':X.loc[x, \"SalePrice\"]-SalePrice,\n",
    "                           'Area_diff':X.loc[x, \"GrLivArea\"]-GrLivArea}\n",
    "                #append row to the dataframe\n",
    "                df_marks = df_marks.append(new_row, ignore_index=True)\n",
    "        print(\"------------------- Sort by the nearest Area difference----------------\")\n",
    "        print(df_marks.sort_values(by=['Area_diff','Price_diff']).reset_index().head(30))   \n",
    "        print(\"------------------- Sort by the nearest Area difference------------------\")\n",
    "        print(df_marks.sort_values(by=['Price_diff','Area_diff']).reset_index().head(30))   \n",
    "\n",
    "        return(df_marks.nsmallest(5,['Area_diff'],keep='all'),df_marks.nsmallest(5,['Price_diff'],keep='all'))\n"
   ]
  },
  {
   "cell_type": "code",
   "execution_count": 6,
   "metadata": {},
   "outputs": [
    {
     "name": "stdout",
     "output_type": "stream",
     "text": [
      "------------------- Sort by the nearest Area difference----------------\n",
      "    index   Style MSZoning  YearBuilt  Bedroom  Area_diff  Price_diff\n",
      "0      25  2Story       RL       16.0      4.0      878.0     -6560.0\n",
      "1      22  2Story       RL       15.0      4.0      903.0     20510.0\n",
      "2      19  2Story       RL       19.0      4.0      934.0     16200.0\n",
      "3      10  2Story       RL       19.0      4.0      948.0      4200.0\n",
      "4      11  2Story       RL       18.0      4.0      968.0     20800.0\n",
      "5      23  2Story       RL       14.0      4.0      973.0     15300.0\n",
      "6      24  2Story       RL       17.0      4.0      988.0     -3700.0\n",
      "7      21  2Story       RL       17.0      4.0      999.0     16300.0\n",
      "8       7  2Story       RL       19.0      4.0     1000.0     17800.0\n",
      "9       4  2Story       RL       12.0      4.0     1008.0     70800.0\n",
      "10     16  2Story       RL       17.0      4.0     1124.0     34300.0\n",
      "11     13  2Story   Others       18.0      4.0     1134.0     64300.0\n",
      "12     17  2Story       RL       17.0      4.0     1264.0    151300.0\n",
      "13      6  2Story       RL       19.0      4.0     1307.0      1300.0\n",
      "14     20  2Story       RL       19.0      4.0     1330.0     57200.0\n",
      "15      0  2Story       RL       16.0      4.0     1364.0    146300.0\n",
      "16     18  2Story       RL       18.0      4.0     1414.0     86300.0\n",
      "17      1  2Story       RL       16.0      4.0     1416.0    126600.0\n",
      "18      2  2Story       RL       17.0      4.0     1492.0    110300.0\n",
      "19      5  2Story       RL       16.0      4.0     1502.0    121300.0\n",
      "20     12  2Story   Others       17.0      4.0     1506.0    141300.0\n",
      "21      9  2Story       RL       17.0      4.0     1508.0    155300.0\n",
      "22     14  2Story       RL       16.0      4.0     1544.0    126300.0\n",
      "23     15  2Story       RL       15.0      4.0     1616.0    163219.0\n",
      "24      8  2Story       RL       15.0      4.0     1636.0    143943.0\n",
      "25      3  2Story       RL       14.0      4.0     1736.0    185270.0\n",
      "------------------- Sort by the nearest Area difference------------------\n",
      "    index   Style MSZoning  YearBuilt  Bedroom  Area_diff  Price_diff\n",
      "0      25  2Story       RL       16.0      4.0      878.0     -6560.0\n",
      "1      24  2Story       RL       17.0      4.0      988.0     -3700.0\n",
      "2       6  2Story       RL       19.0      4.0     1307.0      1300.0\n",
      "3      10  2Story       RL       19.0      4.0      948.0      4200.0\n",
      "4      23  2Story       RL       14.0      4.0      973.0     15300.0\n",
      "5      19  2Story       RL       19.0      4.0      934.0     16200.0\n",
      "6      21  2Story       RL       17.0      4.0      999.0     16300.0\n",
      "7       7  2Story       RL       19.0      4.0     1000.0     17800.0\n",
      "8      22  2Story       RL       15.0      4.0      903.0     20510.0\n",
      "9      11  2Story       RL       18.0      4.0      968.0     20800.0\n",
      "10     16  2Story       RL       17.0      4.0     1124.0     34300.0\n",
      "11     20  2Story       RL       19.0      4.0     1330.0     57200.0\n",
      "12     13  2Story   Others       18.0      4.0     1134.0     64300.0\n",
      "13      4  2Story       RL       12.0      4.0     1008.0     70800.0\n",
      "14     18  2Story       RL       18.0      4.0     1414.0     86300.0\n",
      "15      2  2Story       RL       17.0      4.0     1492.0    110300.0\n",
      "16      5  2Story       RL       16.0      4.0     1502.0    121300.0\n",
      "17     14  2Story       RL       16.0      4.0     1544.0    126300.0\n",
      "18      1  2Story       RL       16.0      4.0     1416.0    126600.0\n",
      "19     12  2Story   Others       17.0      4.0     1506.0    141300.0\n",
      "20      8  2Story       RL       15.0      4.0     1636.0    143943.0\n",
      "21      0  2Story       RL       16.0      4.0     1364.0    146300.0\n",
      "22     17  2Story       RL       17.0      4.0     1264.0    151300.0\n",
      "23      9  2Story       RL       17.0      4.0     1508.0    155300.0\n",
      "24     15  2Story       RL       15.0      4.0     1616.0    163219.0\n",
      "25      3  2Story       RL       14.0      4.0     1736.0    185270.0\n"
     ]
    }
   ],
   "source": [
    "a,b=select_house(HouseStyle,MSZoning,YearBuilt,BedroomAbvGr,GrLivArea,SalePrice,X)\n"
   ]
  },
  {
   "cell_type": "code",
   "execution_count": 7,
   "metadata": {},
   "outputs": [
    {
     "name": "stdout",
     "output_type": "stream",
     "text": [
      "Top 5 of the nearest Area:\n",
      "-----------------------------------------------------\n"
     ]
    },
    {
     "data": {
      "text/html": [
       "<div>\n",
       "<style scoped>\n",
       "    .dataframe tbody tr th:only-of-type {\n",
       "        vertical-align: middle;\n",
       "    }\n",
       "\n",
       "    .dataframe tbody tr th {\n",
       "        vertical-align: top;\n",
       "    }\n",
       "\n",
       "    .dataframe thead th {\n",
       "        text-align: right;\n",
       "    }\n",
       "</style>\n",
       "<table border=\"1\" class=\"dataframe\">\n",
       "  <thead>\n",
       "    <tr style=\"text-align: right;\">\n",
       "      <th></th>\n",
       "      <th>Style</th>\n",
       "      <th>MSZoning</th>\n",
       "      <th>YearBuilt</th>\n",
       "      <th>Bedroom</th>\n",
       "      <th>Area_diff</th>\n",
       "      <th>Price_diff</th>\n",
       "    </tr>\n",
       "  </thead>\n",
       "  <tbody>\n",
       "    <tr>\n",
       "      <th>25</th>\n",
       "      <td>2Story</td>\n",
       "      <td>RL</td>\n",
       "      <td>16.0</td>\n",
       "      <td>4.0</td>\n",
       "      <td>878.0</td>\n",
       "      <td>-6560.0</td>\n",
       "    </tr>\n",
       "    <tr>\n",
       "      <th>22</th>\n",
       "      <td>2Story</td>\n",
       "      <td>RL</td>\n",
       "      <td>15.0</td>\n",
       "      <td>4.0</td>\n",
       "      <td>903.0</td>\n",
       "      <td>20510.0</td>\n",
       "    </tr>\n",
       "    <tr>\n",
       "      <th>19</th>\n",
       "      <td>2Story</td>\n",
       "      <td>RL</td>\n",
       "      <td>19.0</td>\n",
       "      <td>4.0</td>\n",
       "      <td>934.0</td>\n",
       "      <td>16200.0</td>\n",
       "    </tr>\n",
       "    <tr>\n",
       "      <th>10</th>\n",
       "      <td>2Story</td>\n",
       "      <td>RL</td>\n",
       "      <td>19.0</td>\n",
       "      <td>4.0</td>\n",
       "      <td>948.0</td>\n",
       "      <td>4200.0</td>\n",
       "    </tr>\n",
       "    <tr>\n",
       "      <th>11</th>\n",
       "      <td>2Story</td>\n",
       "      <td>RL</td>\n",
       "      <td>18.0</td>\n",
       "      <td>4.0</td>\n",
       "      <td>968.0</td>\n",
       "      <td>20800.0</td>\n",
       "    </tr>\n",
       "  </tbody>\n",
       "</table>\n",
       "</div>"
      ],
      "text/plain": [
       "     Style MSZoning  YearBuilt  Bedroom  Area_diff  Price_diff\n",
       "25  2Story       RL       16.0      4.0      878.0     -6560.0\n",
       "22  2Story       RL       15.0      4.0      903.0     20510.0\n",
       "19  2Story       RL       19.0      4.0      934.0     16200.0\n",
       "10  2Story       RL       19.0      4.0      948.0      4200.0\n",
       "11  2Story       RL       18.0      4.0      968.0     20800.0"
      ]
     },
     "execution_count": 7,
     "metadata": {},
     "output_type": "execute_result"
    }
   ],
   "source": [
    "print(\"Top 5 of the nearest Area:\")\n",
    "print(\"-----------------------------------------------------\")\n",
    "a"
   ]
  },
  {
   "cell_type": "code",
   "execution_count": 8,
   "metadata": {},
   "outputs": [
    {
     "name": "stdout",
     "output_type": "stream",
     "text": [
      "Top 5 of the nearest Price:\n",
      "-----------------------------------------------------\n"
     ]
    },
    {
     "data": {
      "text/html": [
       "<div>\n",
       "<style scoped>\n",
       "    .dataframe tbody tr th:only-of-type {\n",
       "        vertical-align: middle;\n",
       "    }\n",
       "\n",
       "    .dataframe tbody tr th {\n",
       "        vertical-align: top;\n",
       "    }\n",
       "\n",
       "    .dataframe thead th {\n",
       "        text-align: right;\n",
       "    }\n",
       "</style>\n",
       "<table border=\"1\" class=\"dataframe\">\n",
       "  <thead>\n",
       "    <tr style=\"text-align: right;\">\n",
       "      <th></th>\n",
       "      <th>Style</th>\n",
       "      <th>MSZoning</th>\n",
       "      <th>YearBuilt</th>\n",
       "      <th>Bedroom</th>\n",
       "      <th>Area_diff</th>\n",
       "      <th>Price_diff</th>\n",
       "    </tr>\n",
       "  </thead>\n",
       "  <tbody>\n",
       "    <tr>\n",
       "      <th>25</th>\n",
       "      <td>2Story</td>\n",
       "      <td>RL</td>\n",
       "      <td>16.0</td>\n",
       "      <td>4.0</td>\n",
       "      <td>878.0</td>\n",
       "      <td>-6560.0</td>\n",
       "    </tr>\n",
       "    <tr>\n",
       "      <th>24</th>\n",
       "      <td>2Story</td>\n",
       "      <td>RL</td>\n",
       "      <td>17.0</td>\n",
       "      <td>4.0</td>\n",
       "      <td>988.0</td>\n",
       "      <td>-3700.0</td>\n",
       "    </tr>\n",
       "    <tr>\n",
       "      <th>6</th>\n",
       "      <td>2Story</td>\n",
       "      <td>RL</td>\n",
       "      <td>19.0</td>\n",
       "      <td>4.0</td>\n",
       "      <td>1307.0</td>\n",
       "      <td>1300.0</td>\n",
       "    </tr>\n",
       "    <tr>\n",
       "      <th>10</th>\n",
       "      <td>2Story</td>\n",
       "      <td>RL</td>\n",
       "      <td>19.0</td>\n",
       "      <td>4.0</td>\n",
       "      <td>948.0</td>\n",
       "      <td>4200.0</td>\n",
       "    </tr>\n",
       "    <tr>\n",
       "      <th>23</th>\n",
       "      <td>2Story</td>\n",
       "      <td>RL</td>\n",
       "      <td>14.0</td>\n",
       "      <td>4.0</td>\n",
       "      <td>973.0</td>\n",
       "      <td>15300.0</td>\n",
       "    </tr>\n",
       "  </tbody>\n",
       "</table>\n",
       "</div>"
      ],
      "text/plain": [
       "     Style MSZoning  YearBuilt  Bedroom  Area_diff  Price_diff\n",
       "25  2Story       RL       16.0      4.0      878.0     -6560.0\n",
       "24  2Story       RL       17.0      4.0      988.0     -3700.0\n",
       "6   2Story       RL       19.0      4.0     1307.0      1300.0\n",
       "10  2Story       RL       19.0      4.0      948.0      4200.0\n",
       "23  2Story       RL       14.0      4.0      973.0     15300.0"
      ]
     },
     "execution_count": 8,
     "metadata": {},
     "output_type": "execute_result"
    }
   ],
   "source": [
    "print(\"Top 5 of the nearest Price:\")\n",
    "print(\"-----------------------------------------------------\")\n",
    "b"
   ]
  },
  {
   "cell_type": "markdown",
   "metadata": {},
   "source": [
    "# Part 2-B-1"
   ]
  },
  {
   "cell_type": "code",
   "execution_count": 9,
   "metadata": {},
   "outputs": [],
   "source": [
    "# مي خوايم ببينيم دقيق با اين قيمت هست يا نه\n",
    "def find_by_price(SalePrice):\n",
    "    data1 = pd.DataFrame({'Style':[],'MSZoning':[],'YearBuilt':[],'Bedroom':[],\n",
    "                         'Area':[]})\n",
    "    df_marks1 = pd.DataFrame(data1 )\n",
    "    u=0\n",
    "    for x in X.index:\n",
    "        if(X.loc[x, \"SalePrice\"] == SalePrice):\n",
    "            new_row = {'Style':X.loc[x, \"HouseStyle\"],\n",
    "                       'MSZoning':X.loc[x, \"MSZoning\"],\n",
    "                       'YearBuilt':(todays_date.year  -X.loc[x, \"YearBuilt\"]),\n",
    "                       'Bedroom':X.loc[x, \"BedroomAbvGr\"], \n",
    "                       'Area':X.loc[x, \"GrLivArea\"]}\n",
    "            #append row to the dataframe\n",
    "            df_marks1 = df_marks1.append(new_row, ignore_index=True)\n",
    "            u=1\n",
    "        \n",
    "    if(u==1):       \n",
    "        print(df_marks1.sort_values(by=['Area']).reset_index().head(30))  \n",
    "    else:\n",
    "        print(\"Nothing find\")"
   ]
  },
  {
   "cell_type": "code",
   "execution_count": 10,
   "metadata": {},
   "outputs": [
    {
     "name": "stdout",
     "output_type": "stream",
     "text": [
      "    index   Style MSZoning  YearBuilt  Bedroom    Area\n",
      "0       8    SLvl       RL       56.0      0.0   960.0\n",
      "1       6  1Story       RL       27.0      3.0   990.0\n",
      "2      10    SLvl       RM       16.0      2.0  1072.0\n",
      "3       0  1Story       RL       27.0      3.0  1097.0\n",
      "4       9    SLvl       RL       63.0      3.0  1138.0\n",
      "5       7  1Story       RL       50.0      3.0  1258.0\n",
      "6       1  1Story       RL       64.0      3.0  1314.0\n",
      "7       3  1.5Fin       RL       93.0      3.0  1477.0\n",
      "8       2  1.5Fin       RL       81.0      3.0  1505.0\n",
      "9       5  2Story   Others       75.0      4.0  1958.0\n",
      "10      4  2Story   Others       72.0      4.0  2002.0\n"
     ]
    }
   ],
   "source": [
    "find_by_price(SalePrice=145000)"
   ]
  },
  {
   "cell_type": "markdown",
   "metadata": {},
   "source": [
    "# Part 2-B-2"
   ]
  },
  {
   "cell_type": "code",
   "execution_count": 11,
   "metadata": {},
   "outputs": [],
   "source": [
    "# مي خوايم نزديكترين موارد را با اين قيمت پيدا كنيم \n",
    "def find_best_house(SalePrice):\n",
    "    data1 = pd.DataFrame({'Style':[],'MSZoning':[],'YearBuilt':[],'Bedroom':[],\n",
    "                         'Area':[],'SalePrice':[],'SalePrice_diff':[]})\n",
    "    df_marks1 = pd.DataFrame(data1 )\n",
    "    \n",
    "    for x in X.index:\n",
    "            new_row = {'Style':X.loc[x, \"HouseStyle\"],\n",
    "                       'MSZoning':X.loc[x, \"MSZoning\"],\n",
    "                       'YearBuilt':(todays_date.year  -X.loc[x, \"YearBuilt\"]),\n",
    "                       'Bedroom':X.loc[x, \"BedroomAbvGr\"], \n",
    "                       'Area':X.loc[x, \"GrLivArea\"],\n",
    "                       'SalePrice':abs(X.loc[x, \"SalePrice\"]-SalePrice),\n",
    "                        'SalePrice_diff':X.loc[x, \"SalePrice\"]-SalePrice}\n",
    "           \n",
    "            df_marks1 = df_marks1.append(new_row, ignore_index=True)\n",
    "           \n",
    "        \n",
    "    df_marks1=df_marks1.sort_values(by=['SalePrice']).reset_index()\n",
    "    print(df_marks1.drop(\"SalePrice\",axis=1).head(20))  "
   ]
  },
  {
   "cell_type": "code",
   "execution_count": 13,
   "metadata": {},
   "outputs": [
    {
     "name": "stdout",
     "output_type": "stream",
     "text": [
      "    index   Style MSZoning  YearBuilt  Bedroom    Area  SalePrice_diff\n",
      "0     303  SFoyer       RL       18.0      4.0  1922.0          -200.0\n",
      "1      87  1Story       RL       12.0      3.0  1226.0           200.0\n",
      "2    1002  2Story       RL       23.0      3.0  1779.0          -800.0\n",
      "3     553  2Story       RL       45.0      3.0  1935.0          -800.0\n",
      "4    1067    SLvl       RL       54.0      3.0  1724.0          -800.0\n",
      "5     957  2Story       RL       45.0      4.0  1868.0         -1200.0\n",
      "6     816  1Story   Others       15.0      1.0  1241.0          1200.0\n",
      "7    1007  1Story       RL       18.0      3.0  1700.0          1300.0\n",
      "8    1130  2Story       RL       52.0      6.0  2634.0          1300.0\n",
      "9     672  2Story       RL       24.0      4.0  1688.0          1300.0\n",
      "10    157  1.5Fin       RM       18.0      3.0  2082.0          1300.0\n",
      "11    187  2Story       RL       19.0      4.0  2267.0          1300.0\n",
      "12   1119  2Story       RL       19.0      3.0  1861.0          1300.0\n",
      "13    155  2Story       RL      101.0      4.0  1802.0          1400.0\n",
      "14    881  1Story       RL       14.0      3.0  1316.0          1441.0\n",
      "15   1209    SLvl       RL       42.0      3.0  1725.0         -1700.0\n",
      "16    915  1Story   Others       16.0      1.0  1247.0         -1700.0\n",
      "17    826  2Story   Others       15.0      3.0  1576.0         -1700.0\n",
      "18    727  2Story       RL       23.0      3.0  1682.0          1800.0\n",
      "19    643  2Story       RL       33.0      3.0  1714.0         -2200.0\n"
     ]
    }
   ],
   "source": [
    "find_best_house(SalePrice=198700)"
   ]
  },
  {
   "cell_type": "markdown",
   "metadata": {},
   "source": [
    "# Part 2-B-3"
   ]
  },
  {
   "cell_type": "code",
   "execution_count": 44,
   "metadata": {},
   "outputs": [],
   "source": [
    "HouseStyle='2Story'\n",
    "MSZoning='A'\n",
    "YearBuilt=20\n",
    "BedroomAbvGr=4\n",
    "GrLivArea=1948\n",
    "SalePrice=198700"
   ]
  },
  {
   "cell_type": "code",
   "execution_count": 45,
   "metadata": {},
   "outputs": [],
   "source": [
    "# مي خواييم انديس مواردي كه با اين مشخصات مچ ميشه را پيدا كنيم و بعد قيمت پيش بين شده را پيدا كنيم و مقايشه كنيم\n",
    "def predict_price(HouseStyle,MSZoning,YearBuilt,BedroomAbvGr,GrLivArea,SalePrice,X):\n",
    "    y=0\n",
    "    for x in X.index: \n",
    "            if(X.loc[x, 'HouseStyle'] == HouseStyle and \n",
    "               (todays_date.year  - X.loc[x, \"YearBuilt\"]) <=  YearBuilt and\n",
    "                X.loc[x, \"BedroomAbvGr\"] == BedroomAbvGr and\n",
    "                 X.loc[x, \"MSZoning\"] != MSZoning and\n",
    "                   X.loc[x, \"GrLivArea\"] == GrLivArea):\n",
    "                   y=1\n",
    "            if y==1:# find 1 case to match\n",
    "                   return (X.loc[x, \"SalePricepred\"],x)\n",
    "    if y==0:# Nothing find to match\n",
    "        return (-1,-1)"
   ]
  },
  {
   "cell_type": "code",
   "execution_count": 46,
   "metadata": {},
   "outputs": [
    {
     "name": "stdout",
     "output_type": "stream",
     "text": [
      "Predicted price is: 211434.03\n"
     ]
    }
   ],
   "source": [
    "pred_price,index=predict_price(HouseStyle,MSZoning,YearBuilt,BedroomAbvGr,GrLivArea,SalePrice,X)\n",
    "if index == -1:\n",
    "    print(\"Nothing Found\")\n",
    "else:\n",
    "    print(\"Predicted price is:\",pred_price)"
   ]
  },
  {
   "cell_type": "code",
   "execution_count": 51,
   "metadata": {},
   "outputs": [
    {
     "name": "stdout",
     "output_type": "stream",
     "text": [
      "You suggested: 198700 \n",
      "Predicted price is: 211434.03\n"
     ]
    }
   ],
   "source": [
    "diff=abs(SalePrice - X.iloc[index]['SalePricepred'])\n",
    "if (diff > 5000):\n",
    "    print(\"You suggested:\",SalePrice,\"\\nPredicted price is:\",X.iloc[index]['SalePricepred'])\n",
    "else:\n",
    "    print(\"Your suggested price is near the predicted price\")"
   ]
  },
  {
   "cell_type": "code",
   "execution_count": null,
   "metadata": {},
   "outputs": [],
   "source": []
  }
 ],
 "metadata": {
  "kernelspec": {
   "display_name": "Python 3",
   "language": "python",
   "name": "python3"
  },
  "language_info": {
   "codemirror_mode": {
    "name": "ipython",
    "version": 3
   },
   "file_extension": ".py",
   "mimetype": "text/x-python",
   "name": "python",
   "nbconvert_exporter": "python",
   "pygments_lexer": "ipython3",
   "version": "3.7.6"
  }
 },
 "nbformat": 4,
 "nbformat_minor": 4
}
